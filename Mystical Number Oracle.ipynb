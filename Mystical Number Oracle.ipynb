{
  "nbformat": 4,
  "nbformat_minor": 0,
  "metadata": {
    "colab": {
      "provenance": [],
      "include_colab_link": true
    },
    "kernelspec": {
      "name": "python3",
      "display_name": "Python 3"
    },
    "language_info": {
      "name": "python"
    }
  },
  "cells": [
    {
      "cell_type": "markdown",
      "metadata": {
        "id": "view-in-github",
        "colab_type": "text"
      },
      "source": [
        "<a href=\"https://colab.research.google.com/github/SeeratSandha/Mystical-Number-Oracle/blob/main/Mystical%20Number%20Oracle.ipynb\" target=\"_parent\"><img src=\"https://colab.research.google.com/assets/colab-badge.svg\" alt=\"Open In Colab\"/></a>"
      ]
    },
    {
      "cell_type": "markdown",
      "source": [
        "Think of any three-digit number. Write it down, then write it down next to itself to get a six digit number. Got it?\n",
        "\n",
        "Okay, I can psychically tell you that your number is divisibly by 7. Try it: you will get a whole number.\n",
        "\n",
        "That new whole number is... yeah, it's divisible by 11. Try it, and again you will get a whole number.\n",
        "\n",
        "Wait, that whole number you got now? It's divisibly by the next prime number, 13. Wait, not only will dividing by 13 give you a whole number, it will give you your original number!!!\n",
        "\n",
        "\n",
        "\n",
        "Write a python program that does this trick for you, complete with all the prompts. That is, it asks for the 3 digit number, it shows you what you get when you create the six digit number, then it asks you to divide by 7 (and when you hit enter, it shows you what you should get), and so on."
      ],
      "metadata": {
        "id": "DlzgUjr4kq5R"
      }
    },
    {
      "cell_type": "code",
      "source": [
        "number = input(\"Enter a three digit number: \")\n",
        "if len(number) == 3:\n",
        "  print(\"Great! Now write it down.\")\n",
        "else:\n",
        "  print(\"Not quite, make sure your number is three digits.\")\n",
        "print(\"Then we'll double it to get a six digit number.\")\n",
        "print(number + number)\n",
        "next1 = int(number + number)\n",
        "print(\"Okay, I can psychically tell you that your number is divisible by 7. See! A whole number.\")\n",
        "print(next1 // 7)\n",
        "print(\"Guess what? I also know that number is divisible by 11, see! Another whole number.\")\n",
        "next2= int(next1 // 7)\n",
        "print(next2 // 11)\n",
        "print(\"Wait, that whole number you got now? It's divisible by the next prime number 13. \" +\n",
        "      \"Wait, not only will dividing by 13 give you a whole number, it will give you and original number!\")\n",
        "next3= int(next2 // 11)\n",
        "print(next3 // 13)\n",
        "print(\"Because I'm amazing!\")\n",
        "\n",
        "\n",
        ""
      ],
      "metadata": {
        "colab": {
          "base_uri": "https://localhost:8080/"
        },
        "id": "WiTozHqOB3XW",
        "outputId": "1e9e0194-af30-4e40-b5ad-b9e0acbe955e"
      },
      "execution_count": null,
      "outputs": [
        {
          "output_type": "stream",
          "name": "stdout",
          "text": [
            "Enter a three digit number: 666\n",
            "Great! Now write it down.\n",
            "Then we'll double it to get a six digit number.\n",
            "666666\n",
            "Okay, I can psychically tell you that your number is divisible by 7. See! A whole number.\n",
            "95238\n",
            "Guess what? I also know that number is divisible by 11, see! Another whole number.\n",
            "8658\n",
            "Wait, that whole number you got now? It's divisible by the next prime number 13. Wait, not only will dividing by 13 give you a whole number, it will give you and original number!\n",
            "666\n",
            "Because I'm amazing!\n"
          ]
        }
      ]
    }
  ]
}